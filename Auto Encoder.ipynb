{
 "cells": [
  {
   "cell_type": "markdown",
   "metadata": {},
   "source": [
    "This part of assignment aims to provide you with some exposure to the use of autoencoders. Use\n",
    "the full MNIST dataset for this problem.\n",
    "Hints: Use corruption level = 0.1, training epochs = up to about 25, learning rate = 0.1, and batch\n",
    "size = 128 for training of all the layers. "
   ]
  },
  {
   "cell_type": "markdown",
   "metadata": {},
   "source": [
    "1) Design a stacked denoising autoencoder consisting of three hidden-layers; 900 neurons in the\n",
    "first hidden-layer, 625 neurons in the second hidden-layer, and 400 neurons in the third\n",
    "hidden-layer. To train the network:\n",
    "- Use the training dataset of MNIST digits\n",
    "- Corrupt the input data using a binomial distribution at 10% corruption level.\n",
    "- Use cross-entropy as the cost function\n",
    "\n",
    "Plot\n",
    "\n",
    "- learning curves for training each layer\n",
    "- Plot 100 samples of weights (as images) learned at each layer\n",
    "- For 100 representative test images plot\n",
    "- reconstructed images by the network.\n",
    "- Hidden layer activation"
   ]
  },
  {
   "cell_type": "markdown",
   "metadata": {},
   "source": [
    "    FIRST WE NEED TO LOAD THE DATA"
   ]
  },
  {
   "cell_type": "code",
   "execution_count": 6,
   "metadata": {},
   "outputs": [],
   "source": [
    "import numpy as np\n",
    "import os\n",
    "import cPickle"
   ]
  },
  {
   "cell_type": "markdown",
   "metadata": {},
   "source": [
    "    GET THE PICKLE FILE, HAVE 3 DATAS, MOST PROBABLY TRAIN, TEST, VALIDATION"
   ]
  },
  {
   "cell_type": "code",
   "execution_count": 20,
   "metadata": {},
   "outputs": [],
   "source": [
    "with open(r\"mnist.pkl\", \"rb\") as input_file:\n",
    "    data = cPickle.load(input_file)\n",
    "\n",
    "# most probably \n",
    "# size of first set 50000 -> train\n",
    "# size of second set 10000 -> validation\n",
    "# size of thrd set 10000 -> test"
   ]
  },
  {
   "cell_type": "markdown",
   "metadata": {},
   "source": [
    "    Construct the multi layer softmax with autoencoder"
   ]
  },
  {
   "cell_type": "code",
   "execution_count": null,
   "metadata": {},
   "outputs": [],
   "source": [
    "class SoftmaxWithAutoEncoder:\n",
    "    \n",
    "    def __init__():\n",
    "        return\n",
    "    "
   ]
  }
 ],
 "metadata": {
  "kernelspec": {
   "display_name": "Python 2",
   "language": "python",
   "name": "python2"
  },
  "language_info": {
   "codemirror_mode": {
    "name": "ipython",
    "version": 2
   },
   "file_extension": ".py",
   "mimetype": "text/x-python",
   "name": "python",
   "nbconvert_exporter": "python",
   "pygments_lexer": "ipython2",
   "version": "2.7.13"
  }
 },
 "nbformat": 4,
 "nbformat_minor": 2
}
